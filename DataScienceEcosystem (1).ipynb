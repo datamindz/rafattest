{
 "cells": [
  {
   "cell_type": "code",
   "execution_count": 1,
   "id": "db175951-4da4-4123-8925-a5cbb8143072",
   "metadata": {
    "tags": []
   },
   "outputs": [
    {
     "name": "stdout",
     "output_type": "stream",
     "text": [
      "welcome\n"
     ]
    }
   ],
   "source": [
    "print(\"welcome\")"
   ]
  },
  {
   "cell_type": "code",
   "execution_count": 2,
   "id": "f810f18e-058a-4027-a537-03c70286a7ff",
   "metadata": {
    "tags": []
   },
   "outputs": [],
   "source": [
    "x=1-3"
   ]
  },
  {
   "cell_type": "code",
   "execution_count": 3,
   "id": "16fefa65-2823-4f50-9d61-46ddf0dd8b47",
   "metadata": {
    "tags": []
   },
   "outputs": [
    {
     "name": "stdout",
     "output_type": "stream",
     "text": [
      "-2\n"
     ]
    }
   ],
   "source": [
    "print(x)"
   ]
  },
  {
   "cell_type": "markdown",
   "id": "a236593d-f815-49f9-8cbd-1a176ff3cb27",
   "metadata": {},
   "source": [
    "# Data Science Tools and Ecosystem"
   ]
  },
  {
   "cell_type": "markdown",
   "id": "8ef0a90c-73fc-4a14-aa3a-82ff7cb5c062",
   "metadata": {},
   "source": [
    "## In this notebook, Data Science Tools and Ecosystem are summarized."
   ]
  },
  {
   "cell_type": "markdown",
   "id": "b5700985-9045-4c7a-85b5-f13b88baf4ae",
   "metadata": {},
   "source": [
    "Some of the popular languages that Data Scientists use are:\n",
    "1. python\n",
    "2. java\n",
    "3. c++"
   ]
  },
  {
   "cell_type": "markdown",
   "id": "e5706791-a347-458d-a2eb-79e85ee9ad7a",
   "metadata": {},
   "source": [
    "## Some of the commonly used libraries used by Data Scientists include:\n",
    "1. Numpy\n",
    "2. Keras\n",
    "3. pyTorch"
   ]
  },
  {
   "cell_type": "markdown",
   "id": "ece6fbc1-6e9b-4b43-b5d6-d26650dba2ee",
   "metadata": {},
   "source": [
    "| Data Science Tools |\n",
    "| ------------------ |\n",
    "| RStudio |\n",
    "| Apache Spark |\n",
    "| Tensorflow |"
   ]
  },
  {
   "cell_type": "markdown",
   "id": "1320b564-59e2-4c71-8d55-dbcdd130ffaa",
   "metadata": {
    "tags": []
   },
   "source": [
    "### Below are a few examples of evaluating arithmetic expressions in Python\n",
    "Subtraction , Divide and Multiply\n"
   ]
  },
  {
   "cell_type": "markdown",
   "id": "da8bd762-b74b-4531-9f29-56936204e33c",
   "metadata": {},
   "source": [
    "This a simple arithmetic expression to mutiply then add integers"
   ]
  },
  {
   "cell_type": "code",
   "execution_count": 5,
   "id": "5829db50-6914-405b-affc-0d911b35f027",
   "metadata": {
    "tags": []
   },
   "outputs": [
    {
     "data": {
      "text/plain": [
       "17"
      ]
     },
     "execution_count": 5,
     "metadata": {},
     "output_type": "execute_result"
    }
   ],
   "source": [
    "(3*4)+5"
   ]
  },
  {
   "cell_type": "markdown",
   "id": "5648af0b-d3e4-4944-b923-bd6f54608803",
   "metadata": {},
   "source": [
    "This will convert 200 minutes to hours by diving by 60"
   ]
  },
  {
   "cell_type": "code",
   "execution_count": 8,
   "id": "33f3b4ca-a98a-473a-90a4-0032d4f8e887",
   "metadata": {
    "tags": []
   },
   "outputs": [],
   "source": [
    "hours= 200/60"
   ]
  },
  {
   "cell_type": "code",
   "execution_count": 9,
   "id": "52d51c74-a8cf-42b3-9491-61350042642e",
   "metadata": {
    "tags": []
   },
   "outputs": [
    {
     "name": "stdout",
     "output_type": "stream",
     "text": [
      "3.3333333333333335\n"
     ]
    }
   ],
   "source": [
    "print(hours)"
   ]
  },
  {
   "cell_type": "markdown",
   "id": "ea184555-3d39-40ba-a134-78d4467fd6e0",
   "metadata": {},
   "source": [
    "**Objectives**\n",
    "- List popular languages for Data Science\n",
    "- introducing arithmetic expression examples\n",
    "- list data science libraries"
   ]
  },
  {
   "cell_type": "markdown",
   "id": "954e763c-fc96-4113-a2a4-07f3c6d86a2a",
   "metadata": {
    "tags": []
   },
   "source": [
    "## Author"
   ]
  },
  {
   "cell_type": "code",
   "execution_count": null,
   "id": "7733773e-c7e0-40bc-8720-7a7ad8b617f8",
   "metadata": {},
   "outputs": [],
   "source": []
  }
 ],
 "metadata": {
  "kernelspec": {
   "display_name": "Python",
   "language": "python",
   "name": "conda-env-python-py"
  },
  "language_info": {
   "codemirror_mode": {
    "name": "ipython",
    "version": 3
   },
   "file_extension": ".py",
   "mimetype": "text/x-python",
   "name": "python",
   "nbconvert_exporter": "python",
   "pygments_lexer": "ipython3",
   "version": "3.7.12"
  }
 },
 "nbformat": 4,
 "nbformat_minor": 5
}
